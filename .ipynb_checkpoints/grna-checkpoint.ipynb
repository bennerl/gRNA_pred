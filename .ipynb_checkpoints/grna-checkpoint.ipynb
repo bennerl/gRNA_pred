{
 "cells": [
  {
   "cell_type": "code",
   "execution_count": null,
   "metadata": {},
   "outputs": [],
   "source": [
    "import pandas as pd\n",
    "import matplotlib.pyplot as plt\n",
    "import numpy as np\n",
    "from sklearn.model_selection import RepeatedStratifiedKFold, cross_val_score\n",
    "from sklearn.preprocessing import StandardScaler\n",
    "from sklearn.model_selection import GridSearchCV\n",
    "\n",
    "stats_df = pd.read_csv(stats_df, sep = \"\\t\")\n",
    "\n",
    "train_df = stats_df.iloc[:70,2:len(stats_df.columns)]\n",
    "train_score = stats_df.iloc[:70,0]\n",
    "\n",
    "test_df = stats_df.iloc[70:91,2:len(stats_df.columns)]\n",
    "test_score = stats_df.iloc[70:91,0]\n",
    "\n",
    "print(test_df)\n",
    "print(test_class)"
   ]
  },
  {
   "cell_type": "code",
   "execution_count": null,
   "metadata": {},
   "outputs": [],
   "source": [
    "from sklearn.neural_network import MLPClassifier\n",
    "\n",
    "parameters = {'solver':['lbfgs'], 'activation':['identity', 'logistic', 'tanh', 'relu'], 'alpha':[.1, .01, .001], 'max_iter':[500]}\n",
    "ml = MLPClassifier()\n",
    "ml.fit(train_df, train_class)\n",
    "predict_df = ml.predict(test_df)\n",
    "probability_df = ml.predict_proba(test_df)\n",
    "ml_score = ml.score(test_df, test_class)\n",
    "\n",
    "print()\n",
    "print()\n",
    "print()"
   ]
  },
  {
   "cell_type": "code",
   "execution_count": null,
   "metadata": {},
   "outputs": [],
   "source": [
    "from sklearn.linear_model import LogisticRegression\n",
    "parameters = {'multi_class':['ovr', 'multinomial'], 'penalty':['l2'], 'C':[.1, 1.0, 10], 'solver':['lbfgs', 'newton-cg'], 'class_weight':['balanced'], 'max_iter':[500]}\n",
    "ml = LogisticRegression() #the model we are running\n",
    "clf.fit(train_df, train_class) #fits the best parameters to the training data\n",
    "predict_df = clf.predict(test_df) #predicts the classes on the test df\n",
    "probability_df = clf.predict_proba(test_df) #gets the probabilites of each instance belonging to the class on the test df\n",
    "ml_score = clf.score(test_df, test_class) #calculates the score of correct classifications from predict\n",
    "\n",
    "print()\n",
    "print()\n",
    "print()"
   ]
  }
 ],
 "metadata": {
  "kernelspec": {
   "display_name": "Python 3",
   "language": "python",
   "name": "python3"
  },
  "language_info": {
   "codemirror_mode": {
    "name": "ipython",
    "version": 3
   },
   "file_extension": ".py",
   "mimetype": "text/x-python",
   "name": "python",
   "nbconvert_exporter": "python",
   "pygments_lexer": "ipython3",
   "version": "3.7.3"
  }
 },
 "nbformat": 4,
 "nbformat_minor": 2
}
